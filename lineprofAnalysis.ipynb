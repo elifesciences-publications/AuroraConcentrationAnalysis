{
 "cells": [
  {
   "cell_type": "code",
   "execution_count": 1,
   "metadata": {
    "collapsed": false,
    "deletable": true,
    "editable": true
   },
   "outputs": [],
   "source": [
    "import pandas as pd\n",
    "import numpy as np\n",
    "import scipy as sp\n",
    "from scipy import stats\n",
    "import matplotlib.pyplot as plt\n",
    "import PIL\n",
    "from os import listdir\n",
    "from skimage import filters\n",
    "from skimage import feature\n",
    "import sklearn\n",
    "from sklearn import metrics\n",
    "from skimage import measure\n",
    "import re\n",
    "%matplotlib inline"
   ]
  },
  {
   "cell_type": "code",
   "execution_count": 2,
   "metadata": {
    "collapsed": false,
    "deletable": true,
    "editable": true
   },
   "outputs": [],
   "source": [
    "dataname = 'ZM_02Pos1'\n",
    "path = '20171021_ImageSequences_cTY31/ZM_02Pos1/'"
   ]
  },
  {
   "cell_type": "code",
   "execution_count": 3,
   "metadata": {
    "collapsed": false,
    "deletable": true,
    "editable": true
   },
   "outputs": [],
   "source": [
    "fnames = listdir(path)\n",
    "fnames = np.sort(fnames)"
   ]
  },
  {
   "cell_type": "code",
   "execution_count": 4,
   "metadata": {
    "collapsed": false,
    "deletable": true,
    "editable": true
   },
   "outputs": [
    {
     "data": {
      "text/html": [
       "<div>\n",
       "<table border=\"1\" class=\"dataframe\">\n",
       "  <thead>\n",
       "    <tr style=\"text-align: right;\">\n",
       "      <th></th>\n",
       "      <th>ch</th>\n",
       "      <th>filename</th>\n",
       "      <th>image</th>\n",
       "      <th>tpoint</th>\n",
       "      <th>z</th>\n",
       "    </tr>\n",
       "  </thead>\n",
       "  <tbody>\n",
       "    <tr>\n",
       "      <th>0</th>\n",
       "      <td>488</td>\n",
       "      <td>ZM_02Pos1_t001_z001_c001.tif</td>\n",
       "      <td>[[1676.0, 1549.0, 1556.0, 1554.0, 1537.0, 1561...</td>\n",
       "      <td>1</td>\n",
       "      <td>1</td>\n",
       "    </tr>\n",
       "    <tr>\n",
       "      <th>1</th>\n",
       "      <td>560</td>\n",
       "      <td>ZM_02Pos1_t001_z001_c002.tif</td>\n",
       "      <td>[[1604.0, 1688.0, 1539.0, 1588.0, 1583.0, 1556...</td>\n",
       "      <td>1</td>\n",
       "      <td>1</td>\n",
       "    </tr>\n",
       "    <tr>\n",
       "      <th>2</th>\n",
       "      <td>488</td>\n",
       "      <td>ZM_02Pos1_t001_z002_c001.tif</td>\n",
       "      <td>[[1545.0, 1522.0, 1541.0, 1524.0, 1550.0, 1626...</td>\n",
       "      <td>1</td>\n",
       "      <td>2</td>\n",
       "    </tr>\n",
       "    <tr>\n",
       "      <th>3</th>\n",
       "      <td>560</td>\n",
       "      <td>ZM_02Pos1_t001_z002_c002.tif</td>\n",
       "      <td>[[1922.0, 1568.0, 1607.0, 1621.0, 1535.0, 1615...</td>\n",
       "      <td>1</td>\n",
       "      <td>2</td>\n",
       "    </tr>\n",
       "    <tr>\n",
       "      <th>4</th>\n",
       "      <td>488</td>\n",
       "      <td>ZM_02Pos1_t001_z003_c001.tif</td>\n",
       "      <td>[[1546.0, 1544.0, 1643.0, 1578.0, 1568.0, 1533...</td>\n",
       "      <td>1</td>\n",
       "      <td>3</td>\n",
       "    </tr>\n",
       "  </tbody>\n",
       "</table>\n",
       "</div>"
      ],
      "text/plain": [
       "    ch                      filename  \\\n",
       "0  488  ZM_02Pos1_t001_z001_c001.tif   \n",
       "1  560  ZM_02Pos1_t001_z001_c002.tif   \n",
       "2  488  ZM_02Pos1_t001_z002_c001.tif   \n",
       "3  560  ZM_02Pos1_t001_z002_c002.tif   \n",
       "4  488  ZM_02Pos1_t001_z003_c001.tif   \n",
       "\n",
       "                                               image  tpoint  z  \n",
       "0  [[1676.0, 1549.0, 1556.0, 1554.0, 1537.0, 1561...       1  1  \n",
       "1  [[1604.0, 1688.0, 1539.0, 1588.0, 1583.0, 1556...       1  1  \n",
       "2  [[1545.0, 1522.0, 1541.0, 1524.0, 1550.0, 1626...       1  2  \n",
       "3  [[1922.0, 1568.0, 1607.0, 1621.0, 1535.0, 1615...       1  2  \n",
       "4  [[1546.0, 1544.0, 1643.0, 1578.0, 1568.0, 1533...       1  3  "
      ]
     },
     "execution_count": 4,
     "metadata": {},
     "output_type": "execute_result"
    }
   ],
   "source": [
    "dat = []\n",
    "for i in range(len(fnames)):\n",
    "    try:\n",
    "        img = plt.imread(path+fnames[i])\n",
    "        tpoint = re.findall('\\_t(\\d*)',fnames[i])[0]\n",
    "        z = re.findall('\\_z(\\d*)',fnames[i])[0]\n",
    "        ch = np.int(re.findall('\\_c(\\d*)',fnames[i])[0])\n",
    "        if ch==1:\n",
    "            ch = '488'\n",
    "        elif ch==2:\n",
    "            ch = '560'\n",
    "        \n",
    "        dat.append(dict(tpoint=np.int(tpoint),ch=ch,z=np.int(z),image=np.double(img),filename=fnames[i]))\n",
    "    except OSError:\n",
    "        continue\n",
    "        \n",
    "df = pd.DataFrame(dat)\n",
    "df.head()"
   ]
  },
  {
   "cell_type": "code",
   "execution_count": 5,
   "metadata": {
    "collapsed": false,
    "deletable": true,
    "editable": true,
    "scrolled": true
   },
   "outputs": [],
   "source": [
    "dat_combined = []\n",
    "df_grouped = df.groupby(['tpoint','z'])\n",
    "for t,z in list(df_grouped.indices.keys()):\n",
    "    gr = df_grouped.get_group((t,z))\n",
    "    colnames = np.concatenate((['tpoint','z'],'image'+gr['ch'].values,'filename'+gr['ch'].values),axis=0)\n",
    "    dd = np.concatenate(([t,z],gr['image'].values,gr['filename'].values),axis=0)\n",
    "    dat_combined.append(dict(zip(colnames,dd)))\n",
    "    \n",
    "df_combined = pd.DataFrame(dat_combined)"
   ]
  },
  {
   "cell_type": "code",
   "execution_count": 6,
   "metadata": {
    "collapsed": false,
    "deletable": true,
    "editable": true
   },
   "outputs": [
    {
     "name": "stderr",
     "output_type": "stream",
     "text": [
      "/Users/tyyoo/anaconda3/lib/python3.5/site-packages/ipykernel/__main__.py:2: FutureWarning: sort(columns=....) is deprecated, use sort_values(by=.....)\n",
      "  from ipykernel import kernelapp as app\n"
     ]
    }
   ],
   "source": [
    "df_combined.dropna(inplace=True)\n",
    "df_combined = df_combined.sort(['tpoint','z'])\n",
    "df_combined.reset_index(inplace=True)\n",
    "df_combined.drop('index',inplace=True,axis=1)"
   ]
  },
  {
   "cell_type": "code",
   "execution_count": 7,
   "metadata": {
    "collapsed": false,
    "deletable": true,
    "editable": true,
    "scrolled": true
   },
   "outputs": [
    {
     "data": {
      "text/html": [
       "<div>\n",
       "<table border=\"1\" class=\"dataframe\">\n",
       "  <thead>\n",
       "    <tr style=\"text-align: right;\">\n",
       "      <th></th>\n",
       "      <th>filename488</th>\n",
       "      <th>filename560</th>\n",
       "      <th>image488</th>\n",
       "      <th>image560</th>\n",
       "      <th>tpoint</th>\n",
       "      <th>z</th>\n",
       "    </tr>\n",
       "  </thead>\n",
       "  <tbody>\n",
       "    <tr>\n",
       "      <th>0</th>\n",
       "      <td>ZM_02Pos1_t001_z001_c001.tif</td>\n",
       "      <td>ZM_02Pos1_t001_z001_c002.tif</td>\n",
       "      <td>[[1676.0, 1549.0, 1556.0, 1554.0, 1537.0, 1561...</td>\n",
       "      <td>[[1604.0, 1688.0, 1539.0, 1588.0, 1583.0, 1556...</td>\n",
       "      <td>1</td>\n",
       "      <td>1</td>\n",
       "    </tr>\n",
       "    <tr>\n",
       "      <th>1</th>\n",
       "      <td>ZM_02Pos1_t001_z002_c001.tif</td>\n",
       "      <td>ZM_02Pos1_t001_z002_c002.tif</td>\n",
       "      <td>[[1545.0, 1522.0, 1541.0, 1524.0, 1550.0, 1626...</td>\n",
       "      <td>[[1922.0, 1568.0, 1607.0, 1621.0, 1535.0, 1615...</td>\n",
       "      <td>1</td>\n",
       "      <td>2</td>\n",
       "    </tr>\n",
       "    <tr>\n",
       "      <th>2</th>\n",
       "      <td>ZM_02Pos1_t001_z003_c001.tif</td>\n",
       "      <td>ZM_02Pos1_t001_z003_c002.tif</td>\n",
       "      <td>[[1546.0, 1544.0, 1643.0, 1578.0, 1568.0, 1533...</td>\n",
       "      <td>[[1729.0, 1531.0, 1560.0, 1556.0, 1528.0, 1532...</td>\n",
       "      <td>1</td>\n",
       "      <td>3</td>\n",
       "    </tr>\n",
       "  </tbody>\n",
       "</table>\n",
       "</div>"
      ],
      "text/plain": [
       "                    filename488                   filename560  \\\n",
       "0  ZM_02Pos1_t001_z001_c001.tif  ZM_02Pos1_t001_z001_c002.tif   \n",
       "1  ZM_02Pos1_t001_z002_c001.tif  ZM_02Pos1_t001_z002_c002.tif   \n",
       "2  ZM_02Pos1_t001_z003_c001.tif  ZM_02Pos1_t001_z003_c002.tif   \n",
       "\n",
       "                                            image488  \\\n",
       "0  [[1676.0, 1549.0, 1556.0, 1554.0, 1537.0, 1561...   \n",
       "1  [[1545.0, 1522.0, 1541.0, 1524.0, 1550.0, 1626...   \n",
       "2  [[1546.0, 1544.0, 1643.0, 1578.0, 1568.0, 1533...   \n",
       "\n",
       "                                            image560  tpoint  z  \n",
       "0  [[1604.0, 1688.0, 1539.0, 1588.0, 1583.0, 1556...       1  1  \n",
       "1  [[1922.0, 1568.0, 1607.0, 1621.0, 1535.0, 1615...       1  2  \n",
       "2  [[1729.0, 1531.0, 1560.0, 1556.0, 1528.0, 1532...       1  3  "
      ]
     },
     "execution_count": 7,
     "metadata": {},
     "output_type": "execute_result"
    }
   ],
   "source": [
    "df_combined.head(3)"
   ]
  },
  {
   "cell_type": "code",
   "execution_count": 8,
   "metadata": {
    "collapsed": false,
    "deletable": true,
    "editable": true
   },
   "outputs": [],
   "source": [
    "import pims\n",
    "import trackpy as tp"
   ]
  },
  {
   "cell_type": "code",
   "execution_count": 9,
   "metadata": {
    "collapsed": false,
    "deletable": true,
    "editable": true,
    "scrolled": true
   },
   "outputs": [
    {
     "data": {
      "image/png": "[encoded data removed]",
      "text/plain": [
       "<matplotlib.figure.Figure at 0x138c1f748>"
      ]
     },
     "metadata": {},
     "output_type": "display_data"
    }
   ],
   "source": [
    "fig = plt.figure(figsize=(5,5))\n",
    "ax = plt.imshow(df_combined['image488'].sum(),cmap='gray')"
   ]
  },
  {
   "cell_type": "code",
   "execution_count": 23,
   "metadata": {
    "collapsed": false,
    "deletable": true,
    "editable": true,
    "scrolled": true
   },
   "outputs": [
    {
     "data": {
      "image/png": "[encoded data removed]",
      "text/plain": [
       "<matplotlib.figure.Figure at 0x139ffc978>"
      ]
     },
     "metadata": {},
     "output_type": "display_data"
    }
   ],
   "source": [
    "#set ROI\n",
    "xc=50\n",
    "yc=150\n",
    "w = 70\n",
    "h = 150\n",
    "ROI = np.zeros_like(dat[0]['image'])\n",
    "ROI[yc:(yc+h),xc:(xc+w)] = 1\n",
    "\n",
    "fig = plt.figure(figsize=(5,5))\n",
    "ax = plt.imshow(df_combined['image488'].sum()*ROI,cmap='gray')"
   ]
  },
  {
   "cell_type": "code",
   "execution_count": 26,
   "metadata": {
    "collapsed": false,
    "deletable": true,
    "editable": true,
    "scrolled": false
   },
   "outputs": [
    {
     "data": {
      "text/plain": [
       "(150, 300)"
      ]
     },
     "execution_count": 26,
     "metadata": {},
     "output_type": "execute_result"
    },
    {
     "data": {
      "image/png": "[encoded data removed]",
      "text/plain": [
       "<matplotlib.figure.Figure at 0x139fd6908>"
      ]
     },
     "metadata": {},
     "output_type": "display_data"
    }
   ],
   "source": [
    "ind = 0\n",
    "minmass=10000\n",
    "thres = 95\n",
    "dia = 7\n",
    "sep = 4\n",
    "\n",
    "f = tp.locate(df_combined.iloc[ind]['image488'],dia,percentile=thres,engine='python',\n",
    "              topn=40,minmass=minmass,separation=sep,)\n",
    "A = f[['x','y']].values\n",
    "f\n",
    "\n",
    "fig = plt.figure(figsize=(8,8))\n",
    "ax = plt.imshow(df_combined.iloc[ind]['image488'],cmap='gray')\n",
    "plt.scatter(A[:,0],A[:,1],20,color='r',alpha=0.5)\n",
    "plt.colorbar(ax)\n",
    "plt.xlim([xc,(xc+w)])\n",
    "plt.ylim([yc,(yc+h)])"
   ]
  },
  {
   "cell_type": "code",
   "execution_count": 27,
   "metadata": {
    "collapsed": false,
    "deletable": true,
    "editable": true
   },
   "outputs": [
    {
     "data": {
      "text/plain": [
       "0     59577.755570\n",
       "1     12661.586501\n",
       "2     43947.788831\n",
       "3     25664.668074\n",
       "4     50751.421412\n",
       "5     63675.696429\n",
       "6     28606.779460\n",
       "7     30918.438407\n",
       "8     42870.765913\n",
       "9     74472.194463\n",
       "10    19228.799417\n",
       "11    43343.605243\n",
       "12    42476.733138\n",
       "13    32047.999028\n",
       "14    26058.700849\n",
       "15    87186.318667\n",
       "16    44867.198639\n",
       "17    79463.276279\n",
       "18    36907.736586\n",
       "Name: mass, dtype: float64"
      ]
     },
     "execution_count": 27,
     "metadata": {},
     "output_type": "execute_result"
    }
   ],
   "source": [
    "f['mass']"
   ]
  },
  {
   "cell_type": "code",
   "execution_count": 28,
   "metadata": {
    "collapsed": false,
    "deletable": true,
    "editable": true
   },
   "outputs": [
    {
     "data": {
      "text/plain": [
       "array([[<matplotlib.axes._subplots.AxesSubplot object at 0x11a0e7eb8>,\n",
       "        <matplotlib.axes._subplots.AxesSubplot object at 0x13a308668>]], dtype=object)"
      ]
     },
     "execution_count": 28,
     "metadata": {},
     "output_type": "execute_result"
    },
    {
     "data": {
      "image/png": "[encoded data removed]",
      "text/plain": [
       "<matplotlib.figure.Figure at 0x11a0cafd0>"
      ]
     },
     "metadata": {},
     "output_type": "display_data"
    }
   ],
   "source": [
    "tp.subpx_bias(f)"
   ]
  },
  {
   "cell_type": "code",
   "execution_count": 29,
   "metadata": {
    "collapsed": false,
    "deletable": true,
    "editable": true
   },
   "outputs": [],
   "source": [
    "def imshow_2col(image1,image2,feat=None):\n",
    "    #normalize\n",
    "    image1 = (image1-np.min(image1,axis=None))/(np.max(image1,axis=None)-np.min(image1,axis=None))\n",
    "    image2 = (image2-np.min(image2,axis=None))/(np.max(image2,axis=None)-np.min(image2,axis=None))\n",
    "    M = np.dstack((image2,image1,np.zeros(np.shape(image1))))\n",
    "    plt.imshow(M)\n",
    "    if feat is not None:\n",
    "        x = feat['x'].values\n",
    "        y = feat['y'].values\n",
    "        size = feat['size'].values\n",
    "        kinid = feat['kinid'].values\n",
    "        plt.scatter(x,y,50,color='w',marker='o',facecolors='none',linewidths=2,alpha=0.6)\n",
    "        for i in range(len(x)):\n",
    "            plt.text(x[i]-1,y[i]-1,kinid[i],fontdict={'size':14,'color':'blue','weight':'bold'})"
   ]
  },
  {
   "cell_type": "code",
   "execution_count": 30,
   "metadata": {
    "collapsed": false,
    "deletable": true,
    "editable": true,
    "scrolled": false
   },
   "outputs": [
    {
     "name": "stdout",
     "output_type": "stream",
     "text": [
      "Frame 98: 11 features\n"
     ]
    }
   ],
   "source": [
    "df_feat = tp.batch(df_combined['image488'].values,dia,percentile=thres,engine='python',topn=40,minmass=minmass,separation=sep)"
   ]
  },
  {
   "cell_type": "code",
   "execution_count": 31,
   "metadata": {
    "collapsed": false,
    "deletable": true,
    "editable": true,
    "scrolled": false
   },
   "outputs": [
    {
     "data": {
      "text/html": [
       "<div>\n",
       "<table border=\"1\" class=\"dataframe\">\n",
       "  <thead>\n",
       "    <tr style=\"text-align: right;\">\n",
       "      <th></th>\n",
       "      <th>x</th>\n",
       "      <th>y</th>\n",
       "      <th>mass</th>\n",
       "      <th>size</th>\n",
       "      <th>ecc</th>\n",
       "      <th>signal</th>\n",
       "      <th>raw_mass</th>\n",
       "      <th>ep</th>\n",
       "      <th>frame</th>\n",
       "    </tr>\n",
       "  </thead>\n",
       "  <tbody>\n",
       "    <tr>\n",
       "      <th>0</th>\n",
       "      <td>70.019400</td>\n",
       "      <td>209.769841</td>\n",
       "      <td>59577.755570</td>\n",
       "      <td>1.661102</td>\n",
       "      <td>0.134809</td>\n",
       "      <td>5674.071959</td>\n",
       "      <td>133316.0</td>\n",
       "      <td>0.006415</td>\n",
       "      <td>0</td>\n",
       "    </tr>\n",
       "    <tr>\n",
       "      <th>1</th>\n",
       "      <td>74.744813</td>\n",
       "      <td>211.653527</td>\n",
       "      <td>12661.586501</td>\n",
       "      <td>1.662373</td>\n",
       "      <td>0.193694</td>\n",
       "      <td>1234.636028</td>\n",
       "      <td>78426.0</td>\n",
       "      <td>0.016987</td>\n",
       "      <td>0</td>\n",
       "    </tr>\n",
       "    <tr>\n",
       "      <th>2</th>\n",
       "      <td>95.918111</td>\n",
       "      <td>225.789600</td>\n",
       "      <td>43947.788831</td>\n",
       "      <td>1.698950</td>\n",
       "      <td>0.106154</td>\n",
       "      <td>4176.747414</td>\n",
       "      <td>140858.0</td>\n",
       "      <td>0.005910</td>\n",
       "      <td>0</td>\n",
       "    </tr>\n",
       "    <tr>\n",
       "      <th>3</th>\n",
       "      <td>101.987718</td>\n",
       "      <td>227.008188</td>\n",
       "      <td>25664.668074</td>\n",
       "      <td>1.558153</td>\n",
       "      <td>0.115404</td>\n",
       "      <td>2679.422870</td>\n",
       "      <td>121617.0</td>\n",
       "      <td>0.007396</td>\n",
       "      <td>0</td>\n",
       "    </tr>\n",
       "    <tr>\n",
       "      <th>4</th>\n",
       "      <td>92.225155</td>\n",
       "      <td>230.653727</td>\n",
       "      <td>50751.421412</td>\n",
       "      <td>1.588976</td>\n",
       "      <td>0.141991</td>\n",
       "      <td>5122.426074</td>\n",
       "      <td>139909.0</td>\n",
       "      <td>0.005969</td>\n",
       "      <td>0</td>\n",
       "    </tr>\n",
       "  </tbody>\n",
       "</table>\n",
       "</div>"
      ],
      "text/plain": [
       "            x           y          mass      size       ecc       signal  \\\n",
       "0   70.019400  209.769841  59577.755570  1.661102  0.134809  5674.071959   \n",
       "1   74.744813  211.653527  12661.586501  1.662373  0.193694  1234.636028   \n",
       "2   95.918111  225.789600  43947.788831  1.698950  0.106154  4176.747414   \n",
       "3  101.987718  227.008188  25664.668074  1.558153  0.115404  2679.422870   \n",
       "4   92.225155  230.653727  50751.421412  1.588976  0.141991  5122.426074   \n",
       "\n",
       "   raw_mass        ep  frame  \n",
       "0  133316.0  0.006415      0  \n",
       "1   78426.0  0.016987      0  \n",
       "2  140858.0  0.005910      0  \n",
       "3  121617.0  0.007396      0  \n",
       "4  139909.0  0.005969      0  "
      ]
     },
     "execution_count": 31,
     "metadata": {},
     "output_type": "execute_result"
    }
   ],
   "source": [
    "#reject kinetochores outside ROI\n",
    "df_feat = df_feat.drop(df_feat.loc[(df_feat['x']<xc) | (df_feat['x']>xc+w) | (df_feat['y']<yc) | (df_feat['y']>yc+h)].index)\n",
    "df_feat = df_feat.set_index(np.arange(df_feat.shape[0]))\n",
    "df_feat.head()"
   ]
  },
  {
   "cell_type": "code",
   "execution_count": 32,
   "metadata": {
    "collapsed": false,
    "deletable": true,
    "editable": true
   },
   "outputs": [],
   "source": [
    "\n",
    "df_feat['kinid'] = df_feat.index\n",
    "df_feat_grp = df_feat.groupby('frame')\n",
    "df_feat['kinid'] = df_feat['kinid'] - df_feat_grp.first().ix[df_feat['frame'],'kinid'].values\n"
   ]
  },
  {
   "cell_type": "code",
   "execution_count": 33,
   "metadata": {
    "collapsed": false,
    "deletable": true,
    "editable": true
   },
   "outputs": [],
   "source": [
    "tpoints = df_feat[['frame']].applymap(lambda x:df_combined.iloc[x]['tpoint'])\n",
    "tpoints.columns = ['tpoint']\n",
    "zs = df_feat[['frame']].applymap(lambda x:df_combined.iloc[x]['z'])\n",
    "zs.columns = ['z']\n",
    "df_feat = pd.concat((df_feat,tpoints,zs),axis=1)"
   ]
  },
  {
   "cell_type": "code",
   "execution_count": 34,
   "metadata": {
    "collapsed": false,
    "deletable": true,
    "editable": true
   },
   "outputs": [
    {
     "data": {
      "text/html": [
       "<div>\n",
       "<table border=\"1\" class=\"dataframe\">\n",
       "  <thead>\n",
       "    <tr style=\"text-align: right;\">\n",
       "      <th></th>\n",
       "      <th>x</th>\n",
       "      <th>y</th>\n",
       "      <th>mass</th>\n",
       "      <th>size</th>\n",
       "      <th>ecc</th>\n",
       "      <th>signal</th>\n",
       "      <th>raw_mass</th>\n",
       "      <th>ep</th>\n",
       "      <th>frame</th>\n",
       "      <th>kinid</th>\n",
       "      <th>tpoint</th>\n",
       "      <th>z</th>\n",
       "    </tr>\n",
       "  </thead>\n",
       "  <tbody>\n",
       "    <tr>\n",
       "      <th>0</th>\n",
       "      <td>70.019400</td>\n",
       "      <td>209.769841</td>\n",
       "      <td>59577.755570</td>\n",
       "      <td>1.661102</td>\n",
       "      <td>0.134809</td>\n",
       "      <td>5674.071959</td>\n",
       "      <td>133316.0</td>\n",
       "      <td>0.006415</td>\n",
       "      <td>0</td>\n",
       "      <td>0</td>\n",
       "      <td>1</td>\n",
       "      <td>1</td>\n",
       "    </tr>\n",
       "    <tr>\n",
       "      <th>1</th>\n",
       "      <td>74.744813</td>\n",
       "      <td>211.653527</td>\n",
       "      <td>12661.586501</td>\n",
       "      <td>1.662373</td>\n",
       "      <td>0.193694</td>\n",
       "      <td>1234.636028</td>\n",
       "      <td>78426.0</td>\n",
       "      <td>0.016987</td>\n",
       "      <td>0</td>\n",
       "      <td>1</td>\n",
       "      <td>1</td>\n",
       "      <td>1</td>\n",
       "    </tr>\n",
       "    <tr>\n",
       "      <th>2</th>\n",
       "      <td>95.918111</td>\n",
       "      <td>225.789600</td>\n",
       "      <td>43947.788831</td>\n",
       "      <td>1.698950</td>\n",
       "      <td>0.106154</td>\n",
       "      <td>4176.747414</td>\n",
       "      <td>140858.0</td>\n",
       "      <td>0.005910</td>\n",
       "      <td>0</td>\n",
       "      <td>2</td>\n",
       "      <td>1</td>\n",
       "      <td>1</td>\n",
       "    </tr>\n",
       "    <tr>\n",
       "      <th>3</th>\n",
       "      <td>101.987718</td>\n",
       "      <td>227.008188</td>\n",
       "      <td>25664.668074</td>\n",
       "      <td>1.558153</td>\n",
       "      <td>0.115404</td>\n",
       "      <td>2679.422870</td>\n",
       "      <td>121617.0</td>\n",
       "      <td>0.007396</td>\n",
       "      <td>0</td>\n",
       "      <td>3</td>\n",
       "      <td>1</td>\n",
       "      <td>1</td>\n",
       "    </tr>\n",
       "    <tr>\n",
       "      <th>4</th>\n",
       "      <td>92.225155</td>\n",
       "      <td>230.653727</td>\n",
       "      <td>50751.421412</td>\n",
       "      <td>1.588976</td>\n",
       "      <td>0.141991</td>\n",
       "      <td>5122.426074</td>\n",
       "      <td>139909.0</td>\n",
       "      <td>0.005969</td>\n",
       "      <td>0</td>\n",
       "      <td>4</td>\n",
       "      <td>1</td>\n",
       "      <td>1</td>\n",
       "    </tr>\n",
       "    <tr>\n",
       "      <th>5</th>\n",
       "      <td>110.819307</td>\n",
       "      <td>231.391089</td>\n",
       "      <td>63675.696429</td>\n",
       "      <td>1.732051</td>\n",
       "      <td>0.190364</td>\n",
       "      <td>5437.652294</td>\n",
       "      <td>159076.0</td>\n",
       "      <td>0.004965</td>\n",
       "      <td>0</td>\n",
       "      <td>5</td>\n",
       "      <td>1</td>\n",
       "      <td>1</td>\n",
       "    </tr>\n",
       "    <tr>\n",
       "      <th>6</th>\n",
       "      <td>116.860422</td>\n",
       "      <td>231.378329</td>\n",
       "      <td>28606.779460</td>\n",
       "      <td>1.659212</td>\n",
       "      <td>0.158073</td>\n",
       "      <td>2731.960573</td>\n",
       "      <td>110751.0</td>\n",
       "      <td>0.008621</td>\n",
       "      <td>0</td>\n",
       "      <td>6</td>\n",
       "      <td>1</td>\n",
       "      <td>1</td>\n",
       "    </tr>\n",
       "    <tr>\n",
       "      <th>7</th>\n",
       "      <td>113.770603</td>\n",
       "      <td>240.071368</td>\n",
       "      <td>30918.438407</td>\n",
       "      <td>1.709089</td>\n",
       "      <td>0.142257</td>\n",
       "      <td>2731.960573</td>\n",
       "      <td>123586.0</td>\n",
       "      <td>0.007211</td>\n",
       "      <td>0</td>\n",
       "      <td>7</td>\n",
       "      <td>1</td>\n",
       "      <td>1</td>\n",
       "    </tr>\n",
       "    <tr>\n",
       "      <th>8</th>\n",
       "      <td>98.974877</td>\n",
       "      <td>244.436887</td>\n",
       "      <td>42870.765913</td>\n",
       "      <td>1.585009</td>\n",
       "      <td>0.173227</td>\n",
       "      <td>4413.167079</td>\n",
       "      <td>138478.0</td>\n",
       "      <td>0.006060</td>\n",
       "      <td>0</td>\n",
       "      <td>8</td>\n",
       "      <td>1</td>\n",
       "      <td>1</td>\n",
       "    </tr>\n",
       "    <tr>\n",
       "      <th>9</th>\n",
       "      <td>105.652910</td>\n",
       "      <td>244.230335</td>\n",
       "      <td>74472.194463</td>\n",
       "      <td>1.786388</td>\n",
       "      <td>0.062963</td>\n",
       "      <td>5831.685069</td>\n",
       "      <td>186383.0</td>\n",
       "      <td>0.004005</td>\n",
       "      <td>0</td>\n",
       "      <td>9</td>\n",
       "      <td>1</td>\n",
       "      <td>1</td>\n",
       "    </tr>\n",
       "  </tbody>\n",
       "</table>\n",
       "</div>"
      ],
      "text/plain": [
       "            x           y          mass      size       ecc       signal  \\\n",
       "0   70.019400  209.769841  59577.755570  1.661102  0.134809  5674.071959   \n",
       "1   74.744813  211.653527  12661.586501  1.662373  0.193694  1234.636028   \n",
       "2   95.918111  225.789600  43947.788831  1.698950  0.106154  4176.747414   \n",
       "3  101.987718  227.008188  25664.668074  1.558153  0.115404  2679.422870   \n",
       "4   92.225155  230.653727  50751.421412  1.588976  0.141991  5122.426074   \n",
       "5  110.819307  231.391089  63675.696429  1.732051  0.190364  5437.652294   \n",
       "6  116.860422  231.378329  28606.779460  1.659212  0.158073  2731.960573   \n",
       "7  113.770603  240.071368  30918.438407  1.709089  0.142257  2731.960573   \n",
       "8   98.974877  244.436887  42870.765913  1.585009  0.173227  4413.167079   \n",
       "9  105.652910  244.230335  74472.194463  1.786388  0.062963  5831.685069   \n",
       "\n",
       "   raw_mass        ep  frame  kinid  tpoint  z  \n",
       "0  133316.0  0.006415      0      0       1  1  \n",
       "1   78426.0  0.016987      0      1       1  1  \n",
       "2  140858.0  0.005910      0      2       1  1  \n",
       "3  121617.0  0.007396      0      3       1  1  \n",
       "4  139909.0  0.005969      0      4       1  1  \n",
       "5  159076.0  0.004965      0      5       1  1  \n",
       "6  110751.0  0.008621      0      6       1  1  \n",
       "7  123586.0  0.007211      0      7       1  1  \n",
       "8  138478.0  0.006060      0      8       1  1  \n",
       "9  186383.0  0.004005      0      9       1  1  "
      ]
     },
     "execution_count": 34,
     "metadata": {},
     "output_type": "execute_result"
    }
   ],
   "source": [
    "df_feat.head(10)"
   ]
  },
  {
   "cell_type": "code",
   "execution_count": 35,
   "metadata": {
    "collapsed": false,
    "deletable": true,
    "editable": true
   },
   "outputs": [],
   "source": [
    "#find metaphase plate slope (mps) using linear regression (or pca)\n",
    "from sklearn import linear_model\n",
    "from sklearn.decomposition import PCA\n",
    "\n",
    "tpoints = np.unique(df_feat.tpoint.values)\n",
    "\n",
    "for t in tpoints:\n",
    "    #regr = linear_model.LinearRegression()\n",
    "    #regr.fit(df_feat[df_feat.tpoint==t]['x'].values.reshape(-1,1),df_feat[df_feat.tpoint==t]['y'].values)\n",
    "    #df_feat.ix[df_feat.tpoint==t,'mps'] = regr.coef_\n",
    "    \n",
    "    pcaobj = PCA()\n",
    "    pcaobj.fit(df_feat[df_feat.tpoint==t][['x','y']].values)\n",
    "    #print(pcaobj.components_[0])\n",
    "    df_feat.ix[df_feat.tpoint==t,'mps'] = pcaobj.components_[0][1]/pcaobj.components_[0][0]"
   ]
  },
  {
   "cell_type": "code",
   "execution_count": 36,
   "metadata": {
    "collapsed": true,
    "deletable": true,
    "editable": true
   },
   "outputs": [],
   "source": [
    "#distance along a vector\n",
    "def dist_par(loc1,loc2,vec):\n",
    "    return np.abs(np.inner(loc2-loc1,vec/np.linalg.norm(vec)))\n",
    "\n",
    "#distance in a perpendicular direction\n",
    "def dist_perp(loc1,loc2,vec):\n",
    "    return np.sqrt(np.linalg.norm(loc2-loc1)**2-dist_par(loc1,loc2,vec)**2)"
   ]
  },
  {
   "cell_type": "code",
   "execution_count": 46,
   "metadata": {
    "collapsed": false,
    "deletable": true,
    "editable": true,
    "scrolled": false
   },
   "outputs": [],
   "source": [
    "#pairwise distance\n",
    "fr=23\n",
    "feat_selected = df_feat[df_feat.frame==fr]\n",
    "d_par = metrics.pairwise.pairwise_distances(feat_selected[['x','y']].values,\n",
    "                                              metric=dist_par,vec=[1,feat_selected.iloc[0]['mps']])\n",
    "d_perp = metrics.pairwise.pairwise_distances(feat_selected[['x','y']].values,\n",
    "                                              metric=dist_perp,vec=[1,feat_selected.iloc[0]['mps']])\n",
    "#fig,ax = plt.subplots(nrows=1,ncols=2,figsize=(10,10))\n",
    "#im = ax[0].imshow(d_par)\n",
    "#fig.colorbar(im,ax=ax[0],fraction=0.046, pad=0.04)\n",
    "#im = ax[1].imshow(d_perp)\n",
    "#fig.colorbar(im,ax=ax[1],fraction=0.046, pad=0.04)\n"
   ]
  },
  {
   "cell_type": "code",
   "execution_count": 47,
   "metadata": {
    "collapsed": false,
    "deletable": true,
    "editable": true,
    "scrolled": true
   },
   "outputs": [
    {
     "data": {
      "text/plain": [
       "(150, 300)"
      ]
     },
     "execution_count": 47,
     "metadata": {},
     "output_type": "execute_result"
    },
    {
     "data": {
      "image/png": "[encoded data removed]",
      "text/plain": [
       "<matplotlib.figure.Figure at 0x13a301278>"
      ]
     },
     "metadata": {},
     "output_type": "display_data"
    }
   ],
   "source": [
    "#test\n",
    "selected = df_combined.iloc[fr].copy()\n",
    "#print(selected.tpoint,selected.z)\n",
    "plt.figure(figsize=(10,10))\n",
    "imshow_2col(selected['image488'],selected['image560'],df_feat[df_feat.frame==fr])\n",
    "mps = df_feat.loc[df_feat.frame==fr]['mps'].values[0]\n",
    "vec = [1,mps]/np.linalg.norm([1,mps])\n",
    "#print(vec)\n",
    "l = 100\n",
    "plt.plot(np.linspace(xc+w/2-vec[0]*l/2,xc+w/2+vec[0]*l/2),\n",
    "         np.linspace(yc+h/2-vec[1]*l/2,yc+h/2+vec[1]*l/2),'w',lw=3,alpha=0.7)\n",
    "plt.xlim([xc,(xc+w)])\n",
    "plt.ylim([yc,(yc+h)])"
   ]
  },
  {
   "cell_type": "code",
   "execution_count": 48,
   "metadata": {
    "collapsed": false,
    "deletable": true,
    "editable": true
   },
   "outputs": [
    {
     "data": {
      "text/plain": [
       "(array([1, 3, 7]), array([2, 4, 8]))"
      ]
     },
     "execution_count": 48,
     "metadata": {},
     "output_type": "execute_result"
    }
   ],
   "source": [
    "### kinetochore pairing test\n",
    "d_par = np.triu(d_par)\n",
    "d_perp = np.triu(d_perp)\n",
    "\n",
    "cand = np.where((d_par<2.9) & (d_par>0) & (d_perp>3.5) & (d_perp<13))\n",
    "\n",
    "cand\n",
    "#print(np.where(cand==dups[0]))\n",
    "#print(cand)"
   ]
  },
  {
   "cell_type": "code",
   "execution_count": null,
   "metadata": {
    "collapsed": false,
    "deletable": true,
    "editable": true
   },
   "outputs": [],
   "source": [
    "### kinetochore pairing \n",
    "range_d_par = [0,2.9]\n",
    "range_d_perp = [3.5,13]\n",
    "\n",
    "df_feat['sister_id'] = -1\n",
    "\n",
    "for fr in df_combined.index:\n",
    "    #print(fr)\n",
    "    feat_selected = df_feat[df_feat.frame==fr]\n",
    "    if len(feat_selected)==0:\n",
    "        continue\n",
    "    #pairwise distances\n",
    "    d_par = metrics.pairwise.pairwise_distances(feat_selected[['x','y']].values,\n",
    "                                                  metric=dist_par,vec=[1,feat_selected.iloc[0]['mps']])\n",
    "    d_perp = metrics.pairwise.pairwise_distances(feat_selected[['x','y']].values,\n",
    "                                                  metric=dist_perp,vec=[1,feat_selected.iloc[0]['mps']])\n",
    "    d_par = np.triu(d_par)\n",
    "    d_perp = np.triu(d_perp)\n",
    "    \n",
    "    #find kinetochore pair candidates\n",
    "    cand = np.where((d_par<range_d_par[1]) & (d_par>range_d_par[0]) \n",
    "                    & (d_perp>range_d_perp[0]) & (d_perp<range_d_perp[1]))\n",
    "    #find and get rid of duplicates\n",
    "    dups=np.where(np.diff(np.sort(np.concatenate(cand)))==0)[0]\n",
    "    ind_dups = np.where(cand==dups[0])[1] if dups.any() else []\n",
    "    ind_nodups = [x for x in range(len(cand[0])) if not x in ind_dups]\n",
    "\n",
    "    cand_nodups = (cand[0][ind_nodups],cand[1][ind_nodups])\n",
    "    \n",
    "    for i,id1 in enumerate(cand_nodups[0]):\n",
    "        id2 = cand_nodups[1][i]\n",
    "        df_feat.loc[(df_feat['frame']==fr) & (df_feat['kinid']==id1),'sister_id']=id2\n",
    "        df_feat.loc[(df_feat['frame']==fr) & (df_feat['kinid']==id2),'sister_id']=id1\n",
    "    "
   ]
  },
  {
   "cell_type": "code",
   "execution_count": null,
   "metadata": {
    "collapsed": false,
    "deletable": true,
    "editable": true
   },
   "outputs": [],
   "source": [
    "#generate line that pass through two points. \n",
    "#loc1, loc2: (x,y) locations\n",
    "#l: length\n",
    "def generateLine(loc1,loc2,l):\n",
    "    l = float(l)\n",
    "    v = loc2-loc1\n",
    "    u = v/np.linalg.norm(v)\n",
    "    cen = (loc1+loc2)/2.0\n",
    "    return [cen-u*l/2.0,cen+u*l/2.0]\n",
    "    "
   ]
  },
  {
   "cell_type": "code",
   "execution_count": null,
   "metadata": {
    "collapsed": false,
    "deletable": true,
    "editable": true,
    "scrolled": true
   },
   "outputs": [],
   "source": [
    "dic_prof = []\n",
    "\n",
    "tpoint_selection = np.unique(df_feat.tpoint.values)\n",
    "linelen = 30\n",
    "#linewidth = 2\n",
    "linewidth = 1\n",
    "\n",
    "feat_sel = df_feat.loc[[t in tpoint_selection for t in df_feat.tpoint]]\n",
    "feat_sel_grp = feat_sel.groupby(('tpoint','frame'))\n",
    "for key in feat_sel_grp.groups.keys():\n",
    "    grp = feat_sel_grp.get_group(key)\n",
    "    pairs = grp[['kinid','sister_id']].values\n",
    "    if not pairs.any():\n",
    "        continue\n",
    "    \n",
    "    #remove -1's and duplicates\n",
    "    pairs = [r for r in pairs if r[1]!=-1]\n",
    "    if not pairs:\n",
    "        continue\n",
    "    pairs = np.sort(pairs,axis=1)\n",
    "    pairs = [tuple(r) for r in pairs]\n",
    "    pairs = np.sort(pairs,axis=0)[::2]\n",
    "    \n",
    "    selected = df_combined.loc[(df_combined['tpoint']==key[0]) & (df_combined.index==key[1])]\n",
    "    for pair in pairs:\n",
    "        locs = grp.loc[(grp['kinid']==pair[0]) | (grp['kinid']==pair[1]),['y','x']].values\n",
    "        line = generateLine(locs[0],locs[1],linelen)\n",
    "        \n",
    "        prof488 = measure.profile_line(selected['image488'].values[0],line[0],line[1],linewidth=linewidth)\n",
    "        prof560 = measure.profile_line(selected['image560'].values[0],line[0],line[1],linewidth=linewidth)\n",
    "        \n",
    "        prof488 = prof488[:int(np.ceil(linelen))+1]\n",
    "        prof560 = prof560[:int(np.ceil(linelen))+1]\n",
    "        \n",
    "        dic_prof.append({'tpoint':key[0],'fr':key[1],'kinid1':pair[0],'kinid2':pair[1]\n",
    "                         ,'prof488':prof488,'prof560':prof560})\n",
    "\n",
    "\n",
    "df_prof = pd.DataFrame(dic_prof)"
   ]
  },
  {
   "cell_type": "code",
   "execution_count": null,
   "metadata": {
    "collapsed": false
   },
   "outputs": [],
   "source": [
    "# Remove abnormal profiles\n",
    "\n",
    "# add kkdist\n",
    "kkdists = []\n",
    "for i in df_prof.index:\n",
    "    ids = df_prof.iloc[i][['kinid1','kinid2']].values\n",
    "    fr = df_prof.iloc[i]['fr']\n",
    "    feat_sel = df_feat.loc[(df_feat['frame']==fr) & ((df_feat['kinid']==ids[0]) | (df_feat['kinid']==ids[1]))]\n",
    "    kkdists.append(np.linalg.norm(np.diff(feat_sel[['x','y']].values,axis=0)))\n",
    "\n",
    "df_prof['kkdist'] = kkdists\n",
    "\n",
    "proflen = len(df_prof.iloc[0]['prof560'])\n",
    "x = np.arange(proflen)-(proflen-1)/2.0\n",
    "\n",
    "# 560 intensity between kinetochores and outside the pair\n",
    "int560in = df_prof.apply(lambda row: np.mean(row.prof560[(x>-row.kkdist/2.0) & (x<row.kkdist/2.0)]),axis=1)\n",
    "int560out = df_prof.apply(lambda row: np.mean(row.prof560[(x<-row.kkdist/2.0) | (x>row.kkdist/2.0)]),axis=1)\n",
    "\n",
    "df_prof = df_prof.loc[int560in>int560out]"
   ]
  },
  {
   "cell_type": "code",
   "execution_count": null,
   "metadata": {
    "collapsed": false,
    "scrolled": false
   },
   "outputs": [],
   "source": [
    "df_prof.shape"
   ]
  },
  {
   "cell_type": "code",
   "execution_count": null,
   "metadata": {
    "collapsed": false,
    "deletable": true,
    "editable": true
   },
   "outputs": [],
   "source": [
    "trange2 = range(4,7)\n",
    "\n",
    "df_prof_sel = df_prof.loc[[t in trange2 for t in df_prof['tpoint']]]\n",
    "\n",
    "fig,ax1=plt.subplots(figsize=(15,15))\n",
    "ax2 = ax1.twinx()\n",
    "\n",
    "N = len(df_prof_sel.index)\n",
    "\n",
    "for i in range(N):\n",
    "    ax1.plot(df_prof_sel.iloc[i]['prof488'],'g',alpha=0.1)\n",
    "    ax2.plot(df_prof_sel.iloc[i]['prof560'],'r',alpha=0.1)\n",
    "    \n",
    "prof488_std = np.std(df_prof_sel.prof488.values,axis=0)/np.sqrt(N)\n",
    "prof560_std = np.std(df_prof_sel.prof560.values,axis=0)/np.sqrt(N)\n",
    "prof488_mean = np.mean(df_prof_sel.prof488.values,axis=0)\n",
    "prof560_mean = np.mean(df_prof_sel.prof560.values,axis=0)\n",
    "\n",
    "ax1.fill_between(range(int(np.ceil(linelen)+1)),prof488_mean+2*prof488_std,prof488_mean-2*prof488_std,color='g',alpha=0.7)\n",
    "ax2.fill_between(range(int(np.ceil(linelen)+1)),prof560_mean+2*prof560_std,prof560_mean-2*prof560_std,color='r',alpha=0.7)\n",
    "\n",
    "plt.title('From t%d to t%d' % (trange2[0],trange2[-1]))\n",
    "\n",
    "fig.savefig(dataname+'_t%dto%d.png' % (trange2[0],trange2[-1]),format='png')\n",
    "\n",
    "prof488_mean2 = prof488_mean\n",
    "prof560_mean2 = prof560_mean\n",
    "prof488_std2 = prof488_std\n",
    "prof560_std2 = prof560_std"
   ]
  },
  {
   "cell_type": "code",
   "execution_count": null,
   "metadata": {
    "collapsed": false,
    "deletable": true,
    "editable": true
   },
   "outputs": [],
   "source": [
    "trange1 = range(1,4)\n",
    "\n",
    "df_prof_sel = df_prof.loc[[t in trange1 for t in df_prof['tpoint']]]\n",
    "\n",
    "fig,ax1=plt.subplots(figsize=(15,15))\n",
    "ax2 = ax1.twinx()\n",
    "\n",
    "N = len(df_prof_sel.index)\n",
    "\n",
    "for i in range(N):\n",
    "    ax1.plot(df_prof_sel.iloc[i]['prof488'],'g',alpha=0.1)\n",
    "    ax2.plot(df_prof_sel.iloc[i]['prof560'],'r',alpha=0.1)\n",
    "    \n",
    "prof488_std = np.std(df_prof_sel.prof488.values,axis=0)/np.sqrt(N)\n",
    "prof560_std = np.std(df_prof_sel.prof560.values,axis=0)/np.sqrt(N)\n",
    "prof488_mean = np.mean(df_prof_sel.prof488.values,axis=0)\n",
    "prof560_mean = np.mean(df_prof_sel.prof560.values,axis=0)\n",
    "\n",
    "ax1.fill_between(range(int(np.ceil(linelen)+1)),prof488_mean+2*prof488_std,prof488_mean-2*prof488_std,color='g',alpha=0.7)\n",
    "ax2.fill_between(range(int(np.ceil(linelen)+1)),prof560_mean+2*prof560_std,prof560_mean-2*prof560_std,color='r',alpha=0.7)\n",
    "\n",
    "plt.title('From t%d to t%d' % (trange1[0],trange1[-1]))\n",
    "\n",
    "fig.savefig(dataname+'_t%dto%d.png' % (trange1[0],trange1[-1]),format='png')\n",
    "\n",
    "prof488_mean1 = prof488_mean\n",
    "prof560_mean1 = prof560_mean\n",
    "prof488_std1 = prof488_std\n",
    "prof560_std1 = prof560_std"
   ]
  },
  {
   "cell_type": "code",
   "execution_count": null,
   "metadata": {
    "collapsed": false,
    "deletable": true,
    "editable": true
   },
   "outputs": [],
   "source": [
    "trange3 = range(7,10)\n",
    "\n",
    "df_prof_sel = df_prof.loc[[t in trange3 for t in df_prof['tpoint']]]\n",
    "\n",
    "fig,ax1=plt.subplots(figsize=(15,15))\n",
    "ax2 = ax1.twinx()\n",
    "\n",
    "N = len(df_prof_sel.index)\n",
    "\n",
    "for i in range(N):\n",
    "    ax1.plot(df_prof_sel.iloc[i]['prof488'],'g',alpha=0.1)\n",
    "    ax2.plot(df_prof_sel.iloc[i]['prof560'],'r',alpha=0.1)\n",
    "    \n",
    "prof488_std = np.std(df_prof_sel.prof488.values,axis=0)/np.sqrt(N)\n",
    "prof560_std = np.std(df_prof_sel.prof560.values,axis=0)/np.sqrt(N)\n",
    "prof488_mean = np.mean(df_prof_sel.prof488.values,axis=0)\n",
    "prof560_mean = np.mean(df_prof_sel.prof560.values,axis=0)\n",
    "\n",
    "ax1.fill_between(range(int(np.ceil(linelen)+1)),prof488_mean+2*prof488_std,prof488_mean-2*prof488_std,color='g',alpha=0.7)\n",
    "ax2.fill_between(range(int(np.ceil(linelen)+1)),prof560_mean+2*prof560_std,prof560_mean-2*prof560_std,color='r',alpha=0.7)\n",
    "\n",
    "plt.title('From t%d to t%d' % (trange3[0],trange3[-1]))\n",
    "\n",
    "fig.savefig(dataname+'_t%dto%d.png' % (trange3[0],trange3[-1]),format='png')\n",
    "\n",
    "prof488_mean3 = prof488_mean\n",
    "prof560_mean3 = prof560_mean\n",
    "prof488_std3 = prof488_std\n",
    "prof560_std3 = prof560_std"
   ]
  },
  {
   "cell_type": "code",
   "execution_count": null,
   "metadata": {
    "collapsed": false,
    "deletable": true,
    "editable": true
   },
   "outputs": [],
   "source": [
    "#save analyzed data\n",
    "df_feat.to_csv(dataname+'_feat.csv')\n",
    "df_prof.to_csv(dataname+'_prof.csv')"
   ]
  },
  {
   "cell_type": "code",
   "execution_count": null,
   "metadata": {
    "collapsed": false,
    "deletable": true,
    "editable": true
   },
   "outputs": [],
   "source": [
    "fig,ax1=plt.subplots(figsize=(7,9))\n",
    "ax2 = ax1.twinx()\n",
    "\n",
    "ax1.fill_between(range(int(np.ceil(linelen)+1)),\n",
    "                 prof488_mean1+2*prof488_std1,prof488_mean1-2*prof488_std1,color='g',alpha=0.7,hatch='//')\n",
    "ax2.fill_between(range(int(np.ceil(linelen)+1)),prof560_mean1+2*prof560_std1,prof560_mean1-2*prof560_std1,color='r',alpha=0.7,hatch='//')\n",
    "\n",
    "ax1.fill_between(range(int(np.ceil(linelen)+1)),\n",
    "                 prof488_mean2+2*prof488_std2,prof488_mean2-2*prof488_std2,color='g',alpha=0.7,hatch='o')\n",
    "ax2.fill_between(range(int(np.ceil(linelen)+1)),prof560_mean2+2*prof560_std2,prof560_mean2-2*prof560_std2,color='r',alpha=0.7,hatch='o')\n",
    "\n",
    "ax1.fill_between(range(int(np.ceil(linelen)+1)),\n",
    "                 prof488_mean3+2*prof488_std3,prof488_mean3-2*prof488_std3,color='g',alpha=0.7,hatch='^')\n",
    "ax2.fill_between(range(int(np.ceil(linelen)+1)),prof560_mean3+2*prof560_std3,prof560_mean3-2*prof560_std3,color='r',alpha=0.7,hatch='^')\n",
    "\n",
    "\n",
    "ax1.tick_params('y',color='g')\n",
    "ax2.tick_params('y',color='r')\n",
    "ax1.set_ylabel('GFP-CENPA',color='g')\n",
    "ax2.set_ylabel('mCherry-INCENP',color='r')\n",
    "\n",
    "plt.title('t%d~%d vs t%d~t%d vs t%d~t%d' %(trange1[0],trange1[-1],trange2[0],trange2[-1],trange3[0],trange3[-1]))\n",
    "\n",
    "fig.savefig(dataname+'_overlaid.png',format='png')"
   ]
  }
 ],
 "metadata": {
  "kernelspec": {
   "display_name": "Python 3",
   "language": "python",
   "name": "python3"
  },
  "language_info": {
   "codemirror_mode": {
    "name": "ipython",
    "version": 3
   },
   "file_extension": ".py",
   "mimetype": "text/x-python",
   "name": "python",
   "nbconvert_exporter": "python",
   "pygments_lexer": "ipython3",
   "version": "3.5.3"
  }
 },
 "nbformat": 4,
 "nbformat_minor": 0
}
