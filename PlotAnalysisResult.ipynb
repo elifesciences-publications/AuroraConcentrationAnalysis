{
 "cells": [
  {
   "cell_type": "code",
   "execution_count": 1,
   "metadata": {
    "collapsed": true
   },
   "outputs": [],
   "source": [
    "import numpy as np\n",
    "import scipy as sp\n",
    "from scipy import stats\n",
    "import pandas as pd\n",
    "import matplotlib as mpl\n",
    "from matplotlib import pyplot as plt\n",
    "from matplotlib import cm\n",
    "import re\n",
    "from os import listdir\n",
    "\n",
    "%matplotlib inline\n",
    "mpl.rcParams['pdf.fonttype'] = 42"
   ]
  },
  {
   "cell_type": "code",
   "execution_count": 51,
   "metadata": {
    "collapsed": false
   },
   "outputs": [],
   "source": [
    "# Load line profile Analysis Results\n",
    "grps = ['DMSO','Taxol','5ITu']\n",
    "df_res_list = []\n",
    "\n",
    "for grp in grps:\n",
    "    df_res = pd.read_json('AnalysisResults/LineProfileAnalysisResult_%s.json' %grp)\n",
    "    df_res_list.append(df_res)\n"
   ]
  },
  {
   "cell_type": "code",
   "execution_count": 56,
   "metadata": {
    "collapsed": true
   },
   "outputs": [],
   "source": [
    "# import FLIM data mat files\n",
    "from scipy import io\n",
    "mat = io.loadmat('dist_all_result_bin8_WT.mat')\n",
    "FLIMWT = {'edges':mat['Edge'][0][0].flatten(),'mean_FRET_fraction':mat['mean_Y_dist'][0][0].flatten(),\n",
    "          'std_FRET_fraction':mat['std_Y_dist'][0][0].flatten(),'X':mat['X'][0][0].flatten()}\n",
    "\n",
    "mat = io.loadmat('dist_all_result_bin8_Treated.mat')\n",
    "FLIM5ITu = {'edges':mat['Edge'][0][0].flatten(),'mean_FRET_fraction':mat['mean_Y_dist'][0][0].flatten(),\n",
    "          'std_FRET_fraction':mat['std_Y_dist'][0][0].flatten(),'X':mat['X'][0][0].flatten()}\n",
    "\n",
    "mat = io.loadmat('dist_all_result_bin4_Taxol.mat')\n",
    "FLIMTaxol = {'edges':mat['Edge'][0][0].flatten(),'mean_FRET_fraction':mat['mean_Y_dist'][0][0].flatten(),\n",
    "          'std_FRET_fraction':mat['std_Y_dist'][0][0].flatten(),'X':mat['X'][0][0].flatten()}\n"
   ]
  },
  {
   "cell_type": "code",
   "execution_count": 57,
   "metadata": {
    "collapsed": true
   },
   "outputs": [],
   "source": [
    "def findFWHM(prof,dx=0.1):\n",
    "    x = np.arange(len(prof))\n",
    "    f = sp.interpolate.interp1d(x,prof,kind='cubic')\n",
    "    xnew,dx = np.linspace(0,np.max(x),np.int(np.max(x)/dx)+1,retstep=True)\n",
    "    intp_prof = f(xnew)\n",
    "    m = np.max(intp_prof)\n",
    "    zero_crossings = np.where(np.diff(np.sign(intp_prof-m/2)))[0]\n",
    "    return (zero_crossings[1]-zero_crossings[0])*dx"
   ]
  },
  {
   "cell_type": "code",
   "execution_count": 58,
   "metadata": {
    "collapsed": false
   },
   "outputs": [
    {
     "data": {
      "image/png": "[encoded data removed]",
      "text/plain": [
       "<matplotlib.figure.Figure at 0x11e4edeb8>"
      ]
     },
     "metadata": {},
     "output_type": "display_data"
    }
   ],
   "source": [
    "pixsize = 8190/60/1.5/1.2/512 #um\n",
    "\n",
    "#plot the chracteristics of INCENP profiles\n",
    "\n",
    "fig,ax = plt.subplots(nrows=4,ncols=1,figsize=(2.7,8.6),sharex=True)\n",
    "fmts = ['o','^','s']\n",
    "fs = 11\n",
    "ms=4\n",
    "ew = 0.6\n",
    "for j,df_res in enumerate(df_res_list):\n",
    "    ax[0].errorbar(df_res['avgkkdist']*pixsize,df_res['avgprof560'].apply(np.sum),\n",
    "                   xerr=df_res['sdkkdist']*pixsize,fmt=fmts[j],capsize=2,mec=None,ms=ms,elinewidth=ew)\n",
    "    ax[1].errorbar(df_res['avgkkdist']*pixsize,df_res['avgprof560'].apply(np.max),xerr=df_res['sdkkdist']*pixsize,\n",
    "                   yerr=df_res.apply(lambda row:row['semprof560'][np.argmax(row['avgprof560'])],axis=1),\n",
    "                   fmt=fmts[j],capsize=2,mec=None,ms=ms,elinewidth=ew)\n",
    "    ax[2].errorbar(df_res['avgkkdist']*pixsize,df_res['avgprof560'].apply(findFWHM)*pixsize,\n",
    "                   xerr=df_res['sdkkdist']*pixsize,fmt=fmts[j],capsize=2,mec=None,ms=ms,elinewidth=ew)\n",
    "    ax[3].errorbar(df_res['avgkkdist']*pixsize,df_res['avgintatkin'],\n",
    "                   xerr=df_res['sdkkdist']*pixsize,yerr=df_res['semintatkin'],\n",
    "                   fmt=fmts[j],capsize=2,mec=None,ms=ms,elinewidth=ew)\n",
    "    \n",
    "ax[0].set_ylabel('Total intensity (A.U.)',fontsize=fs)\n",
    "ax[1].set_ylabel('Peak Intensity (A.U.)',fontsize=fs)\n",
    "ax[0].legend(['DMSO','Taxol','5ITu'],fontsize=fs)\n",
    "#ax[0].legend(['DMSO','Taxol'],fontsize=fs)\n",
    "ax[2].set_ylabel('FWHM ($\\mu$m)',fontsize=fs)\n",
    "ax[3].set_ylabel('Intensity at KT (A.U.)',fontsize=fs)\n",
    "ax[3].set_xlabel('K-K distance ($\\mu$m)',fontsize=fs)\n",
    "\n",
    "plt.tight_layout()\n",
    "\n",
    "#fig.savefig('AnalysisSummary_cytobgNorm.pdf',facecolor=None,edgecolor=None)\n",
    "#fig.savefig('AnalysisSummary.pdf',facecolor=None,edgecolor=None)"
   ]
  },
  {
   "cell_type": "code",
   "execution_count": null,
   "metadata": {
    "collapsed": true
   },
   "outputs": [],
   "source": [
    "# Plot only intensity at KT, because that's meaningful. Add linear model\n",
    "fig = plt.figure(figsize=(3,3))\n",
    "\n",
    "fmts = ['o','^','s']\n",
    "fs = 11\n",
    "ms=4\n",
    "ew = 0.6\n",
    "for j,df_res in enumerate(df_res_list):\n",
    "    ax[0].errorbar(df_res['avgkkdist']*pixsize,df_res['avgprof560'].apply(np.sum),\n",
    "                   xerr=df_res['sdkkdist']*pixsize,fmt=fmts[j],capsize=2,mec=None,ms=ms,elinewidth=ew)\n",
    "    ax[1].errorbar(df_res['avgkkdist']*pixsize,df_res['avgprof560'].apply(np.max),xerr=df_res['sdkkdist']*pixsize,\n",
    "                   yerr=df_res.apply(lambda row:row['semprof560'][np.argmax(row['avgprof560'])],axis=1),\n",
    "                   fmt=fmts[j],capsize=2,mec=None,ms=ms,elinewidth=ew)\n",
    "    ax[2].errorbar(df_res['avgkkdist']*pixsize,df_res['avgprof560'].apply(findFWHM)*pixsize,\n",
    "                   xerr=df_res['sdkkdist']*pixsize,fmt=fmts[j],capsize=2,mec=None,ms=ms,elinewidth=ew)\n",
    "    ax[3].errorbar(df_res['avgkkdist']*pixsize,df_res['avgintatkin'],\n",
    "                   xerr=df_res['sdkkdist']*pixsize,yerr=df_res['semintatkin'],\n",
    "                   fmt=fmts[j],capsize=2,mec=None,ms=ms,elinewidth=ew)\n",
    "    \n",
    "ax[0].set_ylabel('Total intensity (A.U.)',fontsize=fs)\n",
    "ax[1].set_ylabel('Peak Intensity (A.U.)',fontsize=fs)\n",
    "ax[0].legend(['DMSO','Taxol','5ITu'],fontsize=fs)\n",
    "#ax[0].legend(['DMSO','Taxol'],fontsize=fs)\n",
    "ax[2].set_ylabel('FWHM ($\\mu$m)',fontsize=fs)\n",
    "ax[3].set_ylabel('Intensity at KT (A.U.)',fontsize=fs)\n",
    "ax[3].set_xlabel('K-K distance ($\\mu$m)',fontsize=fs)\n",
    "\n",
    "plt.tight_layout()\n"
   ]
  },
  {
   "cell_type": "code",
   "execution_count": 61,
   "metadata": {
    "collapsed": false
   },
   "outputs": [],
   "source": [
    "# # plot NDC80 Binding fraction vs Aurora B level (in real concentration), average 5ITu data\n",
    "\n",
    "# fs=12\n",
    "# FLIM_list = [FLIMWT,FLIMTaxol,FLIM5ITu]\n",
    "# fmts = ['o','^','s']\n",
    "# ms=4\n",
    "# ew=0.6\n",
    "# convfactor = 0.42   #FRET fraction  -> binding conversion factor\n",
    "# AuroraPeakConc = 10     #Aurora B peak concentration (from Zaytsev et al Elife)\n",
    "\n",
    "# fig = plt.figure(figsize=(3,3))\n",
    "# for i in range(3):\n",
    "#     if (i != 2):\n",
    "#         plt.errorbar(df_res_list[i]['avgintatkin']*AuroraPeakConc,FLIM_list[i]['mean_FRET_fraction']/convfactor,\n",
    "#                      xerr=df_res_list[i]['semintatkin']*AuroraPeakConc,yerr=FLIM_list[i]['std_FRET_fraction']/convfactor,\n",
    "#                      fmt=fmts[i],capsize=2,mec=None,ms=ms,elinewidth=ew)\n",
    "#     elif (i == 2):\n",
    "#         X = df_res_list[i]['avgintatkin'].values*AuroraPeakConc\n",
    "#         dX = df_res_list[i]['semintatkin'].values*AuroraPeakConc\n",
    "#         Y = FLIM_list[i]['mean_FRET_fraction']/convfactor\n",
    "#         dY = FLIM_list[i]['std_FRET_fraction']/convfactor\n",
    "\n",
    "#         meanX = (X/dX**2).sum()/(1/dX**2).sum()  #weighted average\n",
    "#         semX = np.sqrt(1/(1/dX**2).sum())\n",
    "#         meanY = (Y/dY**2).sum()/(1/dY**2).sum()  #weighted average\n",
    "#         semY = np.sqrt(1/(1/dY**2).sum())\n",
    "        \n",
    "#         plt.errorbar(meanX,meanY,xerr=semX,yerr=semY,fmt=fmts[i],capsize=2,mec=None,ms=ms,elinewidth=ew)\n",
    "\n",
    "# plt.xlabel('Aurora B concentration ($\\mu$M)',fontsize=fs)\n",
    "# plt.ylabel('NDC80 binding fraction',fontsize=fs)\n",
    "# plt.legend(['None','Taxol','5ITu'])\n",
    "# plt.tight_layout()\n",
    "\n",
    "# #fig.savefig('AuroraB_vs_NDC80bindingfraction.pdf',edgecolor=None,facecolor=None)"
   ]
  },
  {
   "cell_type": "code",
   "execution_count": 62,
   "metadata": {
    "collapsed": false
   },
   "outputs": [
    {
     "name": "stdout",
     "output_type": "stream",
     "text": [
      "[ 8.  2.  2.  1.  2.  2.  2.  1.]\n"
     ]
    },
    {
     "data": {
      "image/png": "[encoded data removed]",
      "text/plain": [
       "<matplotlib.figure.Figure at 0x11f03ed30>"
      ]
     },
     "metadata": {},
     "output_type": "display_data"
    }
   ],
   "source": [
    "# plot NDC80 Binding fraction vs Aurora B level (in real concentration), bin average\n",
    "\n",
    "ms=4\n",
    "ew=0.6\n",
    "convfactor = 0.42   #FRET fraction  -> binding conversion factor\n",
    "AuroraPeakConc = 10     #Aurora B peak concentration (from Zaytsev et al Elife)\n",
    "fs = 11\n",
    "\n",
    "# bin average the NDC80 binding fraction vs Aurora B level plot\n",
    "X = np.concatenate([df_res['avgintatkin'].values for df_res in df_res_list])\n",
    "dX = np.concatenate([df_res['semintatkin'].values for df_res in df_res_list])\n",
    "Y = np.concatenate([df['mean_FRET_fraction']/convfactor for df in FLIM_list])\n",
    "dY = np.concatenate([df['std_FRET_fraction']/convfactor for df in FLIM_list])\n",
    "\n",
    "edges = [0.25,0.4,0.455,0.5,0.525,0.55,0.6,0.625,0.65]\n",
    "meanX = np.zeros(len(edges)-1)\n",
    "semX = np.zeros(len(edges)-1)\n",
    "meanY = np.zeros(len(edges)-1)\n",
    "semY = np.zeros(len(edges)-1)\n",
    "N = np.zeros(len(edges)-1)\n",
    "for i in range(len(edges)-1):\n",
    "    sel = (X<edges[i+1]) & (X>=edges[i])\n",
    "    meanX[i] = (X[sel]/dX[sel]**2).sum()/(1/dX[sel]**2).sum()  #weighted average\n",
    "    semX[i] = np.sqrt(1/(1/dX[sel]**2).sum())\n",
    "    meanY[i] = (Y[sel]/dY[sel]**2).sum()/(1/dY[sel]**2).sum()  #weighted average\n",
    "    semY[i] = np.sqrt(1/(1/dY[sel]**2).sum())\n",
    "    N[i] = (sel).sum()\n",
    "\n",
    "print(N)\n",
    "fig = plt.figure(figsize=(3,3))\n",
    "plt.errorbar(meanX*AuroraPeakConc,meanY,\n",
    "             xerr=semX*AuroraPeakConc,yerr=semY,fmt='o',color='k',capsize=2,mec=None,ms=ms,elinewidth=ew)\n",
    "\n",
    "plt.xlabel('Aurora B concentration ($\\mu$M)',fontsize=fs)\n",
    "plt.ylabel('NDC80 binding fraction',fontsize=fs)\n",
    "plt.tight_layout()\n",
    "\n",
    "#fig.savefig('AuroraB_vs_NDC80bindingfraction_binned.pdf',edgecolor=None,facecolor=None)"
   ]
  },
  {
   "cell_type": "code",
   "execution_count": 63,
   "metadata": {
    "collapsed": true
   },
   "outputs": [],
   "source": [
    "#NDC80 binding vs Aurora B concentration model:\n",
    "def activeAur_vs_Aur_model(x,alpha,C):\n",
    "    #active Aurora B level\n",
    "    Aa = np.zeros(len(x))\n",
    "    Aa[x<(alpha+C)] = C-alpha\n",
    "    Aa[x>=(alpha+C)] = x[x>=(alpha+C)]-2*alpha\n",
    "    \n",
    "    return Aa\n",
    "\n",
    "def NDC80_phosphor_vs_Aur_model(x,alpha,beta,C):\n",
    "    Aa = activeAur_vs_Aur_model(x,alpha,C)\n",
    "    \n",
    "    return Aa/(Aa+beta)\n",
    "    \n",
    "def binding_vs_Aur_model(p,x):\n",
    "    #constants \n",
    "    a1 = 0.21\n",
    "    b1 = 3.26\n",
    "    c1 = 0.21\n",
    "    a2 = 0.17\n",
    "    b2 = 1.95\n",
    "    c2 = 0.37\n",
    "    C = 3.12 #uM\n",
    "    \n",
    "    alpha,beta = p\n",
    "    \n",
    "    P = NDC80_phosphor_vs_Aur_model(x,alpha,beta,C)\n",
    "    y = a1*(1-(9*P)**(b2/b1))+c1\n",
    "    \n",
    "    return y\n",
    "    "
   ]
  },
  {
   "cell_type": "code",
   "execution_count": 64,
   "metadata": {
    "collapsed": false
   },
   "outputs": [
    {
     "name": "stdout",
     "output_type": "stream",
     "text": [
      "[2.0123601616102569, 20.093002584423662] [ 0.2856059   5.76944732]\n"
     ]
    },
    {
     "data": {
      "image/png": "[encoded data removed]",
      "text/plain": [
       "<matplotlib.figure.Figure at 0x11e3f9470>"
      ]
     },
     "metadata": {},
     "output_type": "display_data"
    }
   ],
   "source": [
    "from kapteyn import kmpfit\n",
    "\n",
    "#Fitting NDC80 binding vs Aurora concentration data\n",
    "fit = kmpfit.simplefit(binding_vs_Aur_model,[2,10],meanX*AuroraPeakConc,meanY,err=semY)\n",
    "\n",
    "print(fit.params, np.sqrt(np.diag(fit.covar)))\n",
    "\n",
    "fig = plt.figure(figsize=(3,3))\n",
    "plt.errorbar(meanX*AuroraPeakConc,meanY,\n",
    "             xerr=semX*AuroraPeakConc,yerr=semY,fmt='o',color='k',capsize=2,mec=None,ms=ms,elinewidth=ew)\n",
    "\n",
    "# plot fit\n",
    "xx = np.linspace(3,6.6,num=50)\n",
    "yy = binding_vs_Aur_model(fit.params,xx)\n",
    "plt.plot(xx,yy,'r-')\n",
    "\n",
    "plt.xlabel('Aurora B concentration ($\\mu$M)',fontsize=fs)\n",
    "plt.ylabel('NDC80 binding fraction',fontsize=fs)\n",
    "\n",
    "ax = plt.gca()\n",
    "ax.tick_params(direction='in')\n",
    "\n",
    "plt.tight_layout()\n",
    "\n",
    "#fig.savefig('AuroraB_vs_NDC80bindingfraction_binned_w_fit.pdf',edgecolor=None,facecolor=None)"
   ]
  },
  {
   "cell_type": "code",
   "execution_count": 71,
   "metadata": {
    "collapsed": false
   },
   "outputs": [
    {
     "data": {
      "image/png": "[encoded data removed]",
      "text/plain": [
       "<matplotlib.figure.Figure at 0x11f082978>"
      ]
     },
     "metadata": {},
     "output_type": "display_data"
    }
   ],
   "source": [
    "#Active Aurora B concentration vs Aurora concentration\n",
    "\n",
    "alpha,beta = fit.params\n",
    "C = 3.12\n",
    "\n",
    "fig, ax1 = plt.subplots(figsize=(3,3))\n",
    "ax2 = ax1.twinx()\n",
    "\n",
    "activeAur = activeAur_vs_Aur_model(xx,alpha,C)\n",
    "\n",
    "ax1.errorbar(meanX*AuroraPeakConc,meanY,\n",
    "             xerr=semX*AuroraPeakConc,yerr=semY,fmt='o',color='k',capsize=2,mec=None,ms=ms,elinewidth=ew)\n",
    "ax2.plot(xx,activeAur)\n",
    "\n",
    "ax1.set_xlabel('Aurora B concentration ($\\mu$M)',fontsize=fs)\n",
    "ax1.set_ylabel('NDC80 binding fraction',fontsize=fs)\n",
    "ax2.set_ylabel('Active Aurora B concentration ($\\mu$M)',fontsize=fs)\n",
    "ax1.tick_params(direction='in')\n",
    "ax2.tick_params(direction='in')"
   ]
  },
  {
   "cell_type": "code",
   "execution_count": null,
   "metadata": {
    "collapsed": true
   },
   "outputs": [],
   "source": [
    "fig,ax = plt.subplots(nrows=3,ncols=1,figsize=(7,3))\n",
    "\n",
    "\n",
    "\n",
    "# Active Aurora B concentration\n",
    "ax[0]\n",
    "\n"
   ]
  }
 ],
 "metadata": {
  "kernelspec": {
   "display_name": "Python 3",
   "language": "python",
   "name": "python3"
  },
  "language_info": {
   "codemirror_mode": {
    "name": "ipython",
    "version": 3
   },
   "file_extension": ".py",
   "mimetype": "text/x-python",
   "name": "python",
   "nbconvert_exporter": "python",
   "pygments_lexer": "ipython3",
   "version": "3.5.3"
  }
 },
 "nbformat": 4,
 "nbformat_minor": 2
}
