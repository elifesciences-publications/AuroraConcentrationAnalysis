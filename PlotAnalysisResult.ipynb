{
 "cells": [
  {
   "cell_type": "code",
   "execution_count": 1,
   "metadata": {
    "collapsed": true,
    "deletable": true,
    "editable": true
   },
   "outputs": [],
   "source": [
    "import numpy as np\n",
    "import scipy as sp\n",
    "from scipy import stats\n",
    "import pandas as pd\n",
    "import matplotlib as mpl\n",
    "from matplotlib import pyplot as plt\n",
    "from matplotlib import cm\n",
    "import re\n",
    "from os import listdir\n",
    "\n",
    "%matplotlib inline\n",
    "mpl.rcParams['pdf.fonttype'] = 42"
   ]
  },
  {
   "cell_type": "code",
   "execution_count": 2,
   "metadata": {
    "collapsed": false,
    "deletable": true,
    "editable": true
   },
   "outputs": [],
   "source": [
    "# Load line profile Analysis Results\n",
    "grps = ['DMSO','Taxol','5ITu']\n",
    "df_res_list = []\n",
    "\n",
    "for grp in grps:\n",
    "    df_res = pd.read_json('AnalysisResults/Dist_vs_INCENP_analysis_%s.json' %grp)\n",
    "    df_res_list.append(df_res)\n"
   ]
  },
  {
   "cell_type": "code",
   "execution_count": 3,
   "metadata": {
    "collapsed": false,
    "deletable": true,
    "editable": true
   },
   "outputs": [
    {
     "data": {
      "text/plain": [
       "680"
      ]
     },
     "execution_count": 3,
     "metadata": {},
     "output_type": "execute_result"
    }
   ],
   "source": [
    "df_res_list[2]['Npairs'].sum()"
   ]
  },
  {
   "cell_type": "code",
   "execution_count": 4,
   "metadata": {
    "collapsed": true,
    "deletable": true,
    "editable": true
   },
   "outputs": [],
   "source": [
    "# import FLIM data mat files\n",
    "from scipy import io\n",
    "mat = io.loadmat('dist_all_result_bin8_WT.mat')\n",
    "FLIMWT = {'edges':mat['Edge'][0][0].flatten(),'mean_FRET_fraction':mat['mean_Y_dist'][0][0].flatten(),\n",
    "          'std_FRET_fraction':mat['std_Y_dist'][0][0].flatten(),'X':mat['X'][0][0].flatten(),\n",
    "         'Xq1':mat['Xq1'][0][0].flatten(),'Xq3':mat['Xq3'][0][0].flatten()}\n",
    "\n",
    "mat = io.loadmat('dist_all_result_bin8_Treated.mat')\n",
    "FLIM5ITu = {'edges':mat['Edge'][0][0].flatten(),'mean_FRET_fraction':mat['mean_Y_dist'][0][0].flatten(),\n",
    "          'std_FRET_fraction':mat['std_Y_dist'][0][0].flatten(),'X':mat['X'][0][0].flatten(),\n",
    "            'Xq1':mat['Xq1'][0][0].flatten(),'Xq3':mat['Xq3'][0][0].flatten()}\n",
    "\n",
    "mat = io.loadmat('dist_all_result_bin4_Taxol.mat')\n",
    "FLIMTaxol = {'edges':mat['Edge'][0][0].flatten(),'mean_FRET_fraction':mat['mean_Y_dist'][0][0].flatten(),\n",
    "          'std_FRET_fraction':mat['std_Y_dist'][0][0].flatten(),'X':mat['X'][0][0].flatten(),\n",
    "             'Xq1':mat['Xq1'][0][0].flatten(),'Xq3':mat['Xq3'][0][0].flatten()}\n",
    "\n",
    "mat = io.loadmat('dist_all_result_bin3_DblTreated.mat')\n",
    "FLIMDbl = {'edges':mat['Edge'][0][0].flatten(),'mean_FRET_fraction':mat['mean_Y_dist'][0][0].flatten(),\n",
    "          'std_FRET_fraction':mat['std_Y_dist'][0][0].flatten(),'X':mat['X'][0][0].flatten(),\n",
    "             'Xq1':mat['Xq1'][0][0].flatten(),'Xq3':mat['Xq3'][0][0].flatten()}\n",
    "\n"
   ]
  },
  {
   "cell_type": "code",
   "execution_count": 5,
   "metadata": {
    "collapsed": true,
    "deletable": true,
    "editable": true
   },
   "outputs": [],
   "source": [
    "pixsize = 8190/60/1.5/1.2/512 #um\n",
    "convfactor = 0.42   #FRET fraction  -> binding conversion factor\n",
    "AuroraPeakConc = 10     #Aurora B peak concentration (from Zaytsev et al Elife)"
   ]
  },
  {
   "cell_type": "code",
   "execution_count": 6,
   "metadata": {
    "collapsed": false,
    "deletable": true,
    "editable": true
   },
   "outputs": [
    {
     "name": "stdout",
     "output_type": "stream",
     "text": [
      "[ 8.  2.  2.  2.  1.  2.  2.  1.]\n"
     ]
    },
    {
     "data": {
      "image/png": "[encoded data removed]",
      "text/plain": [
       "<matplotlib.figure.Figure at 0x10e746320>"
      ]
     },
     "metadata": {},
     "output_type": "display_data"
    }
   ],
   "source": [
    "# plot NDC80 Binding fraction vs Aurora B level (in real concentration), bin average\n",
    "\n",
    "FLIM_list = [FLIMWT,FLIMTaxol,FLIM5ITu]\n",
    "\n",
    "ms=4\n",
    "ew=0.6\n",
    "convfactor = 0.42   #FRET fraction  -> binding conversion factor\n",
    "#dconvfactor = 0.08 #error in conversion factor\n",
    "AuroraPeakConc = 10     #Aurora B peak concentration (from Zaytsev et al Elife)\n",
    "fs = 11\n",
    "\n",
    "# bin average the NDC80 binding fraction vs Aurora B level plot\n",
    "X = np.concatenate([df_res['avgnormint560'].values for df_res in df_res_list])\n",
    "dX = np.concatenate([df_res['semnormint560'].values for df_res in df_res_list])\n",
    "Y = np.concatenate([df['mean_FRET_fraction']/convfactor for df in FLIM_list])\n",
    "dY = np.concatenate([df['std_FRET_fraction']/convfactor for df in FLIM_list])\n",
    "\n",
    "edges = [0.25,0.35,0.45,0.465,0.5,0.55,0.6,0.65,0.7]\n",
    "meanX = np.zeros(len(edges)-1)\n",
    "semX = np.zeros(len(edges)-1)\n",
    "meanY = np.zeros(len(edges)-1)\n",
    "semY = np.zeros(len(edges)-1)\n",
    "N = np.zeros(len(edges)-1)\n",
    "for i in range(len(edges)-1):\n",
    "    sel = (X<edges[i+1]) & (X>=edges[i])\n",
    "    meanX[i] = (X[sel]/dX[sel]**2).sum()/(1/dX[sel]**2).sum()  #weighted average\n",
    "    semX[i] = np.sqrt(1/(1/dX[sel]**2).sum())\n",
    "    meanY[i] = (Y[sel]/dY[sel]**2).sum()/(1/dY[sel]**2).sum()  #weighted average\n",
    "    semY[i] = np.sqrt(1/(1/dY[sel]**2).sum())\n",
    "    N[i] = (sel).sum()\n",
    "\n",
    "print(N)\n",
    "fig = plt.figure(figsize=(3,3))\n",
    "plt.errorbar(meanX*AuroraPeakConc,meanY,\n",
    "             xerr=semX*AuroraPeakConc,yerr=semY,fmt='o',color='k',capsize=2,mec=None,ms=ms,elinewidth=ew)\n",
    "\n",
    "plt.xlabel('Aurora B concentration ($\\mu$M)',fontsize=fs)\n",
    "plt.ylabel('NDC80 binding fraction',fontsize=fs)\n",
    "plt.tight_layout()\n",
    "\n",
    "#fig.savefig('AuroraB_vs_NDC80bindingfraction_binned.pdf',edgecolor=None,facecolor=None)"
   ]
  },
  {
   "cell_type": "code",
   "execution_count": 7,
   "metadata": {
    "collapsed": true,
    "deletable": true,
    "editable": true
   },
   "outputs": [],
   "source": [
    "#NDC80 binding vs Aurora B concentration model:\n",
    "def activeAur_vs_Aur_model(x,K,C):\n",
    "    #active Aurora B level\n",
    "    Aa = np.zeros(len(x))\n",
    "    Aa[x<C] = C-K\n",
    "    Aa[x>=C] = x[x>=C]-K\n",
    "    \n",
    "    return Aa\n",
    "\n",
    "def NDC80_phosphor_vs_Aur_model(x,K,Kphos,C):\n",
    "    Aa = activeAur_vs_Aur_model(x,K,C)\n",
    "    \n",
    "    return 1/(1+Kphos/Aa)\n",
    "    \n",
    "def binding_vs_Aur_model(p,x):\n",
    "    alpha = 1.43\n",
    "    beta = 18\n",
    "    K,Kphos,C = p\n",
    "    \n",
    "    fphos = NDC80_phosphor_vs_Aur_model(x,K,Kphos,C)\n",
    "    y = 1/(1+alpha+beta*fphos)\n",
    "    \n",
    "    return y\n",
    "    "
   ]
  },
  {
   "cell_type": "code",
   "execution_count": 8,
   "metadata": {
    "collapsed": false,
    "deletable": true,
    "editable": true
   },
   "outputs": [
    {
     "name": "stdout",
     "output_type": "stream",
     "text": [
      "[3.5265095225240914, 19.42964805390698, 4.7004721845012609] [ 0.4461233   5.173555    0.19012504]\n"
     ]
    },
    {
     "data": {
      "image/png": "[encoded data removed]",
      "text/plain": [
       "<matplotlib.figure.Figure at 0x10e7d0fd0>"
      ]
     },
     "metadata": {},
     "output_type": "display_data"
    }
   ],
   "source": [
    "from kapteyn import kmpfit\n",
    "\n",
    "#Fitting NDC80 binding vs Aurora concentration data\n",
    "fit = kmpfit.simplefit(binding_vs_Aur_model,[4,20,5],meanX*AuroraPeakConc,meanY,err=semY)\n",
    "\n",
    "print(fit.params, np.sqrt(np.diag(fit.covar)))\n",
    "\n",
    "fig = plt.figure(figsize=(3,3))\n",
    "plt.errorbar(meanX*AuroraPeakConc,meanY,\n",
    "             xerr=semX*AuroraPeakConc,yerr=semY,fmt='o',color='k',capsize=2,mec=None,ms=ms,elinewidth=ew)\n",
    "\n",
    "# plot fit\n",
    "xx = np.linspace(3,7,num=50)\n",
    "yy = binding_vs_Aur_model(fit.params,xx)\n",
    "plt.plot(xx,yy,'r-')\n",
    "\n",
    "plt.xlabel('Aurora B concentration ($\\mu$M)',fontsize=fs)\n",
    "\n",
    "plt.ylabel('NDC80 binding fraction',fontsize=fs)\n",
    "\n",
    "ax = plt.gca()\n",
    "ax.tick_params(direction='in')\n",
    "ax.set_xticks([3,4,5,6,7])\n",
    "\n",
    "plt.tight_layout()\n",
    "\n",
    "fig.savefig('AuroraB_vs_NDC80bindingfraction_binned_w_fit.pdf',edgecolor=None,facecolor=None)"
   ]
  },
  {
   "cell_type": "code",
   "execution_count": 9,
   "metadata": {
    "collapsed": false,
    "deletable": true,
    "editable": true,
    "scrolled": false
   },
   "outputs": [
    {
     "data": {
      "image/png": "[encoded data removed]",
      "text/plain": [
       "<matplotlib.figure.Figure at 0x1111fa2e8>"
      ]
     },
     "metadata": {},
     "output_type": "display_data"
    }
   ],
   "source": [
    "# Plot only intensity at KT, because that's meaningful. Add linear model\n",
    "fig = plt.figure(figsize=(3.6,3.6))\n",
    "\n",
    "fmts = ['o','^','s']\n",
    "grps = ['DMSO','Taxol','5ITu']\n",
    "fs = 11\n",
    "ms=4\n",
    "ew = 0.6\n",
    "for j,df_res in enumerate(df_res_list):\n",
    "    plt.errorbar(df_res['kkdist_q2']*pixsize,df_res['avgnormint560'],\n",
    "                 xerr=np.array([df_res['kkdist_q2']-df_res['kkdist_q1'],df_res['kkdist_q3']-df_res['kkdist_q2']])*pixsize,\n",
    "                 yerr=df_res['semnormint560'],fmt=fmts[j],capsize=2,mec=None,ms=ms,elinewidth=ew,label=grps[j])\n",
    "\n",
    "#fit linear model\n",
    "linmodel = lambda x,a,b:a*x+b\n",
    "#taxol + DMSO\n",
    "popt1,pconv1 = sp.optimize.curve_fit(linmodel,\n",
    "                      np.concatenate([df_res_list[0]['kkdist_q2'].values,df_res_list[1]['kkdist_q2'].values])*pixsize,\n",
    "                      np.concatenate([df_res_list[0]['avgnormint560'],df_res_list[1]['avgnormint560']]),\n",
    "                     sigma=np.concatenate([df_res_list[0]['semnormint560'],df_res_list[1]['semnormint560']]))\n",
    "#5ITu\n",
    "popt2,pconv2 = sp.optimize.curve_fit(linmodel,df_res_list[2]['kkdist_q2'].values*pixsize,\n",
    "                                     df_res_list[2]['avgnormint560'],sigma=df_res_list[2]['semnormint560'])\n",
    "\n",
    "#only DMSO\n",
    "popt3,pconv3 = sp.optimize.curve_fit(linmodel,df_res_list[0]['kkdist_q2'].values*pixsize,\n",
    "                      df_res_list[0]['avgnormint560'],sigma=df_res_list[0]['semnormint560'])\n",
    "\n",
    "\n",
    "xx = np.linspace(0.7,1.5,num=50)\n",
    "plt.plot(xx,linmodel(xx,*popt1),label='Fit DMSO+Taxol')\n",
    "plt.plot(xx,linmodel(xx,*popt2),label='Fit 5ITu')\n",
    "\n",
    "plt.ylabel('INCENP-mCherry intensity\\n at NDC80 (A.U.)',fontsize=fs)\n",
    "plt.xlabel('K-K distance ($\\mu$m)',fontsize=fs)\n",
    "#plt.legend(fontsize=fs,loc='center left')\n",
    "\n",
    "ax = plt.gca()\n",
    "ax.tick_params(direction='in')\n",
    "\n",
    "plt.tight_layout()\n",
    "\n",
    "fig.savefig('INCENP-mCherry intensity vs KKDistance.pdf',facecolor=None,edgecolor=None)\n"
   ]
  },
  {
   "cell_type": "code",
   "execution_count": 10,
   "metadata": {
    "collapsed": false,
    "deletable": true,
    "editable": true,
    "scrolled": true
   },
   "outputs": [
    {
     "name": "stdout",
     "output_type": "stream",
     "text": [
      "[-0.46147658  1.02668672] [-0.01433296  0.3163001 ]\n",
      "[3.5265095225240914, 19.42964805390698, 4.7004721845012609]\n"
     ]
    }
   ],
   "source": [
    "print(popt1,popt2)\n",
    "print(fit.params)"
   ]
  },
  {
   "cell_type": "code",
   "execution_count": 11,
   "metadata": {
    "collapsed": false,
    "deletable": true,
    "editable": true
   },
   "outputs": [
    {
     "name": "stdout",
     "output_type": "stream",
     "text": [
      "p[0]: -0.348127 [-0.645361 -0.050894]\n",
      "p[1]: 0.878070 [0.507859 1.248281]\n"
     ]
    }
   ],
   "source": [
    "# p value estimation\n",
    "\n",
    "from scipy.stats.distributions import  t\n",
    "\n",
    "n = 8    # number of data points\n",
    "pcov = pconv3 \n",
    "pars = popt3\n",
    "\n",
    "\n",
    "alpha = 1e-4 # confidence interval = 100*(1-alpha)\n",
    "\n",
    "p = len(pars) # number of parameters\n",
    "\n",
    "dof = max(0, n - p) # number of degrees of freedom\n",
    "\n",
    "# student-t value for the dof and confidence level\n",
    "tval = t.ppf(1.0-alpha/2., dof) \n",
    "\n",
    "for i, p, var in zip(range(n), pars, np.diag(pcov)):\n",
    "    sigma = var**0.5\n",
    "    print('p[%d]: %03f [%03f %03f]' %(i,p,p - sigma*tval,p + sigma*tval))"
   ]
  },
  {
   "cell_type": "markdown",
   "metadata": {
    "deletable": true,
    "editable": true
   },
   "source": [
    "### p-vals: DMSO + Taxol, p < 1e-6; 5ITu, p > 0.5; DMSO only, p < 1e-4"
   ]
  },
  {
   "cell_type": "code",
   "execution_count": 15,
   "metadata": {
    "collapsed": false,
    "deletable": true,
    "editable": true
   },
   "outputs": [
    {
     "data": {
      "image/png": "[encoded data removed]",
      "text/plain": [
       "<matplotlib.figure.Figure at 0x111261c50>"
      ]
     },
     "metadata": {},
     "output_type": "display_data"
    }
   ],
   "source": [
    "K,Kphos,C = fit.params\n",
    "convfactor = 0.42\n",
    "ms=4\n",
    "ew = 0.6\n",
    "\n",
    "# a*K-K distance + b = Aurora B concentration, 1 for DMSO+5ITu; 2 for 5ITu\n",
    "a1,b1 = AuroraPeakConc*popt1\n",
    "a2,b2 = AuroraPeakConc*popt2\n",
    "\n",
    "kkdists = np.linspace(0.7,1.5,num=50) #kkdists \n",
    "Aur1 = a1*kkdists+b1\n",
    "Aur2 = a2*kkdists+b2\n",
    "\n",
    "fig,ax = plt.subplots(nrows=2,ncols=1,figsize=(3,5),sharex=True,sharey=True)\n",
    "\n",
    "# NDC80 binding vs kkdist model\n",
    "ax[0].plot(kkdists,binding_vs_Aur_model([K,Kphos,C],Aur1))\n",
    "ax[1].plot(kkdists,binding_vs_Aur_model([K,Kphos,C],Aur2))\n",
    "\n",
    "fFRET1 = np.concatenate([FLIMTaxol['mean_FRET_fraction'],FLIMWT['mean_FRET_fraction']])\n",
    "dfFRET1 = np.concatenate([FLIMTaxol['std_FRET_fraction'],FLIMWT['std_FRET_fraction']])\n",
    "fFRET2 = np.concatenate([FLIMDbl['mean_FRET_fraction'],FLIM5ITu['mean_FRET_fraction']])\n",
    "dfFRET2 = np.concatenate([FLIMDbl['std_FRET_fraction'],FLIM5ITu['std_FRET_fraction']])\n",
    "\n",
    "#plot data\n",
    "X1 = np.concatenate([FLIMTaxol['X'],FLIMWT['X']])\n",
    "Y1 = fFRET1/convfactor\n",
    "dX1up = np.concatenate([FLIMTaxol['Xq3']-FLIMTaxol['X'],FLIMWT['Xq3']-FLIMWT['X']])\n",
    "dX1down = np.concatenate([FLIMTaxol['X']-FLIMTaxol['Xq1'],FLIMWT['X']-FLIMWT['Xq1']])\n",
    "dY1 = dfFRET1/convfactor\n",
    "\n",
    "X2 = np.concatenate([FLIMDbl['X'],FLIM5ITu['X']])\n",
    "Y2 = fFRET2/convfactor\n",
    "dX2up = np.concatenate([FLIMDbl['Xq3']-FLIMDbl['X'],FLIM5ITu['Xq3']-FLIM5ITu['X']])\n",
    "dX2down = np.concatenate([FLIMDbl['X']-FLIMDbl['Xq1'],FLIM5ITu['X']-FLIM5ITu['Xq1']])\n",
    "dY2 = dfFRET2/convfactor\n",
    "\n",
    "ax[0].errorbar(X1,Y1,xerr=[dX1down,dX1up],yerr=dY1,fmt='o',color='k',capsize=2,mec=None,ms=ms,elinewidth=ew)\n",
    "ax[1].errorbar(X2,Y2,xerr=[dX2down,dX2up],yerr=dY2,fmt='o',color='k',capsize=2,mec=None,ms=ms,elinewidth=ew)\n",
    "\n",
    "ax[0].set_ylabel('NDC80 binding fraction',fontsize=11)\n",
    "ax[1].set_xlabel('K-K distance ($\\mu$m)',fontsize=11)\n",
    "\n",
    "ax[0].tick_params(direction='in')\n",
    "ax[1].tick_params(direction='in')\n",
    "\n",
    "plt.tight_layout()\n",
    "\n",
    "fig.savefig('NDC80Binidng_vs_KKdist_w_model.pdf',facecolor=None,edgecolor=None)\n"
   ]
  }
 ],
 "metadata": {
  "kernelspec": {
   "display_name": "Python 3",
   "language": "python",
   "name": "python3"
  },
  "language_info": {
   "codemirror_mode": {
    "name": "ipython",
    "version": 3
   },
   "file_extension": ".py",
   "mimetype": "text/x-python",
   "name": "python",
   "nbconvert_exporter": "python",
   "pygments_lexer": "ipython3",
   "version": "3.5.4"
  }
 },
 "nbformat": 4,
 "nbformat_minor": 2
}
